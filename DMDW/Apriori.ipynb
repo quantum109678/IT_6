{
 "cells": [
  {
   "cell_type": "code",
   "execution_count": 57,
   "metadata": {},
   "outputs": [],
   "source": [
    "file=\"test.csv\"\n",
    "items=[]\n",
    "MaxItemId=0\n",
    "MinItemId=float('inf')\n",
    "MinSup=2\n",
    "MinConf=.6\n",
    "data=[]"
   ]
  },
  {
   "cell_type": "code",
   "execution_count": 58,
   "metadata": {},
   "outputs": [],
   "source": [
    "for line in open(file,'r'):\n",
    "    transaction=[int(i[1:]) for i in line.strip().split(',')]\n",
    "    MaxItemId=max(MaxItemId,transaction[-1])\n",
    "    MinItemId=min(MinItemId,transaction[0])\n",
    "    data.append(set(transaction))"
   ]
  },
  {
   "cell_type": "code",
   "execution_count": 59,
   "metadata": {},
   "outputs": [],
   "source": [
    "def GenPowerSet(S):\n",
    "    \n",
    "    PowerSet = [set()]\n",
    "\n",
    "    for Elem in S:\n",
    "        NewSets = [] \n",
    "        for PowerSetItem in PowerSet:\n",
    "            NewSet = set().union(PowerSetItem) \n",
    "            NewSet.add(Elem)\n",
    "            NewSets.append(NewSet)\n",
    "        PowerSet.extend(NewSets)\n",
    "\n",
    "    return PowerSet"
   ]
  },
  {
   "cell_type": "code",
   "execution_count": 60,
   "metadata": {},
   "outputs": [
    {
     "name": "stdout",
     "output_type": "stream",
     "text": [
      "[[], [{1}, {2}, {3}, {4}, {5}], [{1, 2}, {1, 3}, {1, 5}, {2, 3}, {2, 4}, {2, 5}], [{1, 2, 3}, {1, 2, 5}]]\n"
     ]
    }
   ],
   "source": [
    "C=[[],[set([i]) for i in range(MinItemId,MaxItemId+1)]]\n",
    "L=[[]]\n",
    "Support=[[],[]]\n",
    "#print(C)\n",
    "\n",
    "i=1\n",
    "\n",
    "while 1:\n",
    "    #print('\\r'+str(i),end='')\n",
    "    CurrCandidateSet=C[i]\n",
    "    LenCurrCandidate=len(CurrCandidateSet)\n",
    "    SupCount=[0 for j in range(LenCurrCandidate)]\n",
    "    for transaction in data:\n",
    "        for j in range(LenCurrCandidate):\n",
    "            #print(str(i)+str(j))\n",
    "            if len(transaction.intersection(CurrCandidateSet[j]))==len(CurrCandidateSet[j]):\n",
    "                SupCount[j]+=1\n",
    "    CurrL=[]\n",
    "    nextC=[]\n",
    "   # print(\"done1\")\n",
    "    for j in range(LenCurrCandidate):\n",
    "        if SupCount[j] >= MinSup:\n",
    "            CurrL.append(CurrCandidateSet[j])\n",
    "            Support[i].append(SupCount[j])\n",
    "    if len(CurrL)==0:\n",
    "        break\n",
    "    L.append(CurrL)\n",
    "   # print(\"L1:\",len(L[1]))\n",
    "   # print(\"done2\")\n",
    "    for j in range(len(L[i])):\n",
    "        for k in range(j+1,len(L[i])):\n",
    "            if len(L[i][j].union(L[i][k]))==i+1 and (L[i][j].union(L[i][k])) not in nextC:\n",
    "                nextC.append(L[i][j].union(L[i][k]))\n",
    "                \n",
    "    C.append(nextC)\n",
    "    Support.append([])\n",
    "    i+=1\n",
    "    \n",
    "print(L)\n",
    "#print(Support)\n",
    "    \n",
    "    "
   ]
  },
  {
   "cell_type": "code",
   "execution_count": null,
   "metadata": {},
   "outputs": [],
   "source": []
  },
  {
   "cell_type": "code",
   "execution_count": 61,
   "metadata": {},
   "outputs": [
    {
     "name": "stdout",
     "output_type": "stream",
     "text": [
      "{1} => {2} Conf: 0.6666666666666666\n",
      "{1} => {3} Conf: 0.6666666666666666\n",
      "{3} => {1} Conf: 0.6666666666666666\n",
      "{5} => {1} Conf: 1.0\n",
      "{3} => {2} Conf: 0.6666666666666666\n",
      "{4} => {2} Conf: 1.0\n",
      "{5} => {2} Conf: 1.0\n",
      "{5} => {1, 2} Conf: 1.0\n",
      "{1, 5} => {2} Conf: 1.0\n",
      "{2, 5} => {1} Conf: 1.0\n"
     ]
    }
   ],
   "source": [
    "for k in range(2,len(L)):\n",
    "    FreqItemSet=L[k]\n",
    "    #print(FreqItemSet)\n",
    "    PossRules=[]\n",
    "    StrongRulesL=[]\n",
    "    StrongRulesR=[]\n",
    "    for i in range(len(FreqItemSet)):\n",
    "        PossRules=GenPowerSet(FreqItemSet[i])\n",
    "        LHS=[]\n",
    "        RHS=[]\n",
    "        LHS+=PossRules[1:-1]\n",
    "       # print(LHS)\n",
    "        for j in range(len(LHS)):\n",
    "            RHS.append(PossRules[-1]-LHS[j])\n",
    "        ind=L[len(FreqItemSet[i])].index(FreqItemSet[i])\n",
    "        ConstNum=Support[len(FreqItemSet[i])][ind]\n",
    "        #print(ConstNum)\n",
    "        for j in range(len(LHS)):\n",
    "            den=Support[len(LHS[j])][L[len(LHS[j])].index(LHS[j])]\n",
    "            if (ConstNum/den) >= MinConf:\n",
    "\n",
    "                print(LHS[j],\"=>\",RHS[j],\"Conf:\",ConstNum/den)\n",
    "\n",
    "    \n",
    "    \n",
    "\n",
    "\n"
   ]
  },
  {
   "cell_type": "code",
   "execution_count": null,
   "metadata": {},
   "outputs": [],
   "source": []
  },
  {
   "cell_type": "code",
   "execution_count": null,
   "metadata": {},
   "outputs": [],
   "source": []
  }
 ],
 "metadata": {
  "kernelspec": {
   "display_name": "Python 3",
   "language": "python",
   "name": "python3"
  }
 },
 "nbformat": 4,
 "nbformat_minor": 2
}
